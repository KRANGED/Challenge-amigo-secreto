{
  "nbformat": 4,
  "nbformat_minor": 0,
  "metadata": {
    "colab": {
      "provenance": [],
      "authorship_tag": "ABX9TyPj2cbFaO1iWm0+EG74JGiw",
      "include_colab_link": true
    },
    "kernelspec": {
      "name": "python3",
      "display_name": "Python 3"
    },
    "language_info": {
      "name": "python"
    }
  },
  "cells": [
    {
      "cell_type": "markdown",
      "metadata": {
        "id": "view-in-github",
        "colab_type": "text"
      },
      "source": [
        "<a href=\"https://colab.research.google.com/github/KRANGED/Challenge-amigo-secreto/blob/main/DesafioEstructurasCondicionales.ipynb\" target=\"_parent\"><img src=\"https://colab.research.google.com/assets/colab-badge.svg\" alt=\"Open In Colab\"/></a>"
      ]
    },
    {
      "cell_type": "markdown",
      "source": [
        "1 - Escribe un programa que pida a la persona usuaria que proporcione dos números y muestre el número más grande."
      ],
      "metadata": {
        "id": "c_afhGF-cyqs"
      }
    },
    {
      "cell_type": "code",
      "source": [
        "numero1 = float(input(\"Ingrese el primer número: \"))\n",
        "numero2 = float(input(\"Ingrese el segundo número: \"))\n",
        "\n",
        "if numero1 > numero2:\n",
        "    print(\"El número más grande es:\", numero1)\n",
        "elif numero1 < numero2:\n",
        "    print(\"El número más grande es:\", numero2)\n",
        "else:\n",
        "    print(\"Los números son iguales.\")"
      ],
      "metadata": {
        "id": "h6zdDkfHfg8p"
      },
      "execution_count": null,
      "outputs": []
    },
    {
      "cell_type": "markdown",
      "source": [
        "2 - Escribe un programa que solicite el porcentaje de crecimiento de producción de una empresa e informe si hubo un crecimiento (porcentaje positivo) o una disminución (porcentaje negativo)."
      ],
      "metadata": {
        "id": "UqE1n7Vsc4eS"
      }
    },
    {
      "cell_type": "code",
      "source": [
        "crecimientoProduccion = float(input(\"Ingrese el porcentaje de crecimiento de producción: \"))\n",
        "if crecimientoProduccion > 0:\n",
        "    print(\"La produccion aumentó.\")\n",
        "elif crecimientoProduccion < 0:\n",
        "    print(\"La producción disminuyó.\")\n",
        "else:\n",
        "    print(\"No hubo cambios en la producción.\")"
      ],
      "metadata": {
        "id": "rb3jRHsnfi9u"
      },
      "execution_count": null,
      "outputs": []
    },
    {
      "cell_type": "markdown",
      "source": [
        "3 - Escribe un programa que determine si una letra proporcionada por la persona usuaria es una vocal o una consonante."
      ],
      "metadata": {
        "id": "h9QBtdxVc4va"
      }
    },
    {
      "cell_type": "code",
      "source": [
        "letra = input(\"Ingrese una letra: \")\n",
        "if letra.lower() in \"aeiou\":\n",
        "    print(\"Es una vocal.\")\n",
        "else:\n",
        "    print(\"Es una consonante.\")"
      ],
      "metadata": {
        "colab": {
          "base_uri": "https://localhost:8080/"
        },
        "id": "KGi5wqC2fjZB",
        "outputId": "e51683b4-1c34-44d1-c547-c26e8762f083"
      },
      "execution_count": 2,
      "outputs": [
        {
          "output_type": "stream",
          "name": "stdout",
          "text": [
            "Ingrese una letra: S\n",
            "Es una consonante.\n"
          ]
        }
      ]
    },
    {
      "cell_type": "markdown",
      "source": [
        "4 - Escribe un programa que lea valores promedio de precios de un modelo de automóvil durante 3 años consecutivos y muestre el valor más alto y más bajo entre esos tres años."
      ],
      "metadata": {
        "id": "DW98Zvquc47W"
      }
    },
    {
      "cell_type": "code",
      "source": [
        "valorenanio1 = float(input(\"Ingrese el valor promedio del automóvil en su primer año: \"))\n",
        "valorenanio2 = float(input(\"Ingrese el valor promedio del automóvil en su segundo año: \"))\n",
        "valorenanio3 = float(input(\"Ingrese el valor promedio del automóvil en su tercer año: \"))\n",
        "\n",
        "if valorenanio1 > valorenanio2 and valorenanio1 > valorenanio3:\n",
        "    print(\"El valor más alto fue en el primer año.\")\n",
        "elif valorenanio2 > valorenanio1 and valorenanio2 > valorenanio3:\n",
        "    print(\"El valor más alto fue en el segundo año.\")\n",
        "else:\n",
        "    print(\"El valor más alto fue en el tercer año.\")"
      ],
      "metadata": {
        "id": "rv1Qb85ZfkKO"
      },
      "execution_count": null,
      "outputs": []
    },
    {
      "cell_type": "markdown",
      "source": [
        "5 - Escribe un programa que pregunte sobre el precio de tres productos e indique cuál es el producto más barato para comprar."
      ],
      "metadata": {
        "id": "8U68pVIBc4-u"
      }
    },
    {
      "cell_type": "code",
      "source": [
        "producto1 = float(input(\"Ingrese el precio del primer producto: \"))\n",
        "producto2 = float(input(\"Ingrese el precio del segundo producto: \"))\n",
        "producto3 = float(input(\"Ingrese el precio del tercer producto: \"))\n",
        "\n",
        "if producto1 < producto2 and producto1 < producto3:\n",
        "    print(\"El primer producto es el más barato para comprar.\")\n",
        "elif producto2 < producto1 and producto2 < producto3:\n",
        "    print(\"El segundo producto es el más barato para comprar.\")\n",
        "else:\n",
        "    print(\"El tercer producto es el más barato para comprar.\")"
      ],
      "metadata": {
        "id": "wuzi6XHyfkxi"
      },
      "execution_count": null,
      "outputs": []
    },
    {
      "cell_type": "markdown",
      "source": [
        "6 - Escribe un programa que lea tres números y los muestre en orden descendente."
      ],
      "metadata": {
        "id": "7m-vkLSCc5B-"
      }
    },
    {
      "cell_type": "code",
      "source": [
        "numero1 = float(input(\"Ingrese el primer número: \"))\n",
        "numero2 = float(input(\"Ingrese el segundo número: \"))\n",
        "numero3 = float(input(\"Ingrese el tercer número: \"))\n",
        "\n",
        "if numero1 >= numero2 and numero1 >= numero3:\n",
        "    print(numero1)\n",
        "    if numero2 >= numero3:\n",
        "        print(numero2)\n",
        "        print(numero3)\n",
        "    else:\n",
        "        print(numero3)\n",
        "        print(numero2)\n",
        "elif numero2 >= numero1 and numero2 >= numero3:\n",
        "    print(numero2)\n",
        "    if numero1 >= numero3:\n",
        "        print(numero1)\n",
        "        print(numero3)\n",
        "    else:\n",
        "        print(numero3)\n",
        "        print(numero1)\n",
        "else:\n",
        "    print(numero3)\n",
        "    if numero1 >= numero2:\n",
        "        print(numero1)\n",
        "        print(numero2)\n",
        "    else:\n",
        "        print(numero2)\n",
        "        print(numero1)"
      ],
      "metadata": {
        "id": "3VxQ5aakflPd"
      },
      "execution_count": null,
      "outputs": []
    },
    {
      "cell_type": "markdown",
      "source": [
        "7 -Escribe un programa que pregunte en qué turno estudia la persona usuaria (\"mañana\", \"tarde\" o \"noche\") y muestre el mensaje \"¡Buenos Días!\", \"¡Buenas Tardes!\", \"¡Buenas Noches!\" o \"Valor Inválido!\", según el caso."
      ],
      "metadata": {
        "id": "p4LK2Xkac5E2"
      }
    },
    {
      "cell_type": "code",
      "source": [
        "turno = input(\"¿En qué turno estudias? (mañana, tarde o noche): \")\n",
        "turno=turno.lower()\n",
        "if turno == \"mañana\":\n",
        "    print(\"¡Buenos días!\")\n",
        "elif turno == \"tarde\":\n",
        "    print(\"¡Buenas tardes!\")\n",
        "elif turno == \"noche\":\n",
        "    print(\"¡Buenas noches!\")\n",
        "else:\n",
        "    print(\"Valor inválido!\")"
      ],
      "metadata": {
        "id": "2m_zaqtKflub"
      },
      "execution_count": null,
      "outputs": []
    },
    {
      "cell_type": "markdown",
      "source": [
        "8 - Escribe un programa que solicite un número entero a la persona usuaria y determine si es par o impar. Pista: Puedes usar el operador módulo (%)."
      ],
      "metadata": {
        "id": "MXyjxRIVc5Hz"
      }
    },
    {
      "cell_type": "code",
      "source": [
        "numero = int(input(\"Ingrese un número entero: \"))\n",
        "if numero % 2 == 0:\n",
        "    print(\"El número es par.\")\n",
        "else:\n",
        "    print(\"El número es impar.\")"
      ],
      "metadata": {
        "id": "aBFcW5gEfmmq"
      },
      "execution_count": null,
      "outputs": []
    },
    {
      "cell_type": "markdown",
      "source": [
        "9 - Escribe un programa que pida un número a la persona usuaria y le informe si es entero o decimal."
      ],
      "metadata": {
        "id": "LoWQ-8lDc5Rl"
      }
    },
    {
      "cell_type": "code",
      "source": [
        "numero = float(input(\"Ingrese un número: \"))\n",
        "if numero.is_integer():\n",
        "    print(\"El número es entero.\")\n",
        "else:\n",
        "    print(\"El número es decimal.\")\n",
        "\"\"\"\n",
        "if numero - int(numero) == 0:\n",
        "    print(\"El número es entero.\")\n",
        "else:\n",
        "    print(\"El número es decimal.\")\n",
        "\"\"\""
      ],
      "metadata": {
        "colab": {
          "base_uri": "https://localhost:8080/",
          "height": 70
        },
        "id": "Cx9DP7SffnEF",
        "outputId": "ba15229e-6a23-4b5c-b60e-0ccc2613003d"
      },
      "execution_count": 3,
      "outputs": [
        {
          "output_type": "stream",
          "name": "stdout",
          "text": [
            "Ingrese un número: 3.123\n",
            "El número es decimal.\n"
          ]
        },
        {
          "output_type": "execute_result",
          "data": {
            "text/plain": [
              "'\\nif numero - int(numero) == 0:\\n    print(\"El número es entero.\")\\nelse:\\n    print(\"El número es decimal.\")\\n'"
            ],
            "application/vnd.google.colaboratory.intrinsic+json": {
              "type": "string"
            }
          },
          "metadata": {},
          "execution_count": 3
        }
      ]
    },
    {
      "cell_type": "markdown",
      "source": [
        "#**MOMENTO DE LOS PROYECTOS**\n",
        "\n",
        "10 - Un programa debe ser escrito para leer dos números y luego preguntar a la persona usuaria qué operación desea realizar. El resultado de la operación debe incluir información sobre el número, si es par o impar, positivo o negativo, e entero o decimal."
      ],
      "metadata": {
        "id": "4M3TwAfic5Vc"
      }
    },
    {
      "cell_type": "code",
      "source": [
        "numero1 = float(input(\"Ingrese el primer número: \"))\n",
        "numero2 = float(input(\"Ingrese el segundo número: \"))\n",
        "selectorOperacion = input(\"¿Qué operación desea realizar? (+, -, *, /): \")\n",
        "\n",
        "if selectorOperacion == \"+\":\n",
        "    resultado = numero1 + numero2\n",
        "    print(\"El resultado de la suma es:\", resultado)\n",
        "elif selectorOperacion == \"-\":\n",
        "    resultado = numero1 - numero2\n",
        "    print(\"El resultado de la resta es:\", resultado)\n",
        "elif selectorOperacion == \"*\":\n",
        "    resultado = numero1 * numero2\n",
        "    print(\"El resultado de la multiplicación es:\", resultado)\n",
        "elif selectorOperacion == \"/\":\n",
        "    resultado = numero1 / numero2\n",
        "    print(\"El resultado de la división es:\", resultado)\n",
        "elase:\n",
        "    print(\"Operación inválida.\")\n",
        "\n",
        "#CHECA QUE SEA PAR O IMPAR\n",
        "print(\"El resultado es:\")\n",
        "if resultado % 2 == 0:\n",
        "    print(\"Par.\")\n",
        "else:\n",
        "    print(\"Impar.\")\n",
        "\n",
        "#CHECA QUE SEA POSITIVO O NEGATIVO\n",
        "print(\"El resultado es:\")\n",
        "if resultado > 0:\n",
        "    print(\"Positivo.\")\n",
        "else:\n",
        "    print(\"Negativo.\")\n",
        "\n",
        "#CHECA QUE SEA ENTERO O DECIMAL\n",
        "print(\"El resultado es:\")\n",
        "if resultado.is_integer():\n",
        "    print(\"Entero.\")\n",
        "else:\n",
        "    print(\"Decimal.\")"
      ],
      "metadata": {
        "id": "ksso-qvifn9U"
      },
      "execution_count": null,
      "outputs": []
    },
    {
      "cell_type": "markdown",
      "source": [
        "11 - Escribe un programa que pida a la persona usuaria tres números que representan los lados de un triángulo. El programa debe informar si los valores pueden utilizarse para formar un triángulo y, en caso afirmativo, si es equilátero, isósceles o escaleno. Ten en cuenta algunas sugerencias:\n",
        "*Tres lados forman un triángulo cuando la suma de cualesquiera dos lados es mayor que el tercero.\n",
        "\n",
        "*   Triángulo Equilátero: tres lados iguales.\n",
        "*   Triángulo Isósceles: dos lados iguales.\n",
        "*   Triángulo Escaleno: tres lados diferentes."
      ],
      "metadata": {
        "id": "UMco68eec5Y8"
      }
    },
    {
      "cell_type": "code",
      "source": [
        "a = float(input(\"Ingrese el primer lado del triángulo: \"))\n",
        "b = float(input(\"Ingrese el segundo lado del triángulo: \"))\n",
        "c = float(input(\"Ingrese el tercer lado del triángulo: \"))\n",
        "\n",
        "#identificar si es posible construir un triangulo con los 3 valores proporcionados\n",
        "#empleando el teorema de desigualdad triangular\n",
        "if a + b > c and a + c > b and b + c > a:\n",
        "    print(\"Se puede construir un triángulo con estos lados.\")\n",
        "\n",
        "#identificar el tipo de triángulo:\n",
        "if a == b and b == c:\n",
        "    print(\"El triángulo es equilátero.\")\n",
        "elif (a == b and a != b ) or (a == c and a != b) or (b == c and b != a):\n",
        "    print(\"El triángulo es isósceles.\")\n",
        "elif a! = b and a != c and b != c:\n",
        "    print(\"El triángulo es escaleno.\")"
      ],
      "metadata": {
        "id": "HlQ7jiE8fomP"
      },
      "execution_count": null,
      "outputs": []
    },
    {
      "cell_type": "markdown",
      "source": [
        "12 - Un establecimiento está vendiendo combustibles con descuentos variables. Para el etanol, si la cantidad comprada es de hasta 15 litros, el descuento será del 2% por litro. En caso contrario, será del 4% por litro. Para el diésel, si la cantidad comprada es de hasta 15 litros, el descuento será del 3% por litro. En caso contrario, será del 5% por litro. El precio por litro de diésel es de \\$2,00 y el precio por litro de etanol es de \\$1,70. Escribe un programa que lea la cantidad de litros vendidos y el tipo de combustible (E para etanol y D para diésel) y calcule el valor a pagar por el cliente. Ten en cuenta algunas sugerencias:\n",
        "\n",
        "*   El valor del descuento será el producto del precio por litro, la cantidad de litros y el valor del descuento.\n",
        "*   El valor a pagar por un cliente será el resultado de la multiplicación del precio por litro por la cantidad de litros menos el valor del descuento resultante del cálculo."
      ],
      "metadata": {
        "id": "3ZWWW_Wxc5e9"
      }
    },
    {
      "cell_type": "code",
      "source": [
        "diesel = 2\n",
        "etanol = 1.7\n",
        "\n",
        "litrosVendidos = float(input(\"Ingrese la cantidad de litros vendidos: \"))\n",
        "tipoCombustible = input(\"Ingrese el tipo de combustible (E para etanol y D para diésel): \")\n",
        "\n",
        "#calcular descuentos\n",
        "if tipoCombustible == \"E\":\n",
        "    if litrosVendidos <= 15:\n",
        "        descuento = 0.02\n",
        "    else:\n",
        "        descuento = 0.04\n",
        "    descuentoTotal = litrosVendidos * etanol * descuento\n",
        "    valorApagar = litrosVendidos * etanol - descuentoTotal\n",
        "\n",
        "if tipoCombustible == \"D\":\n",
        "    if litrosVendidos <= 15:\n",
        "        descuento = 0.03\n",
        "    else:\n",
        "        descuento = 0.05\n",
        "        descuentoTotal = litrosVendidos * diesel * descuento\n",
        "    descuentoTotal = litrosVendidos * diesel * descuento\n",
        "    valorApagar = litrosVendidos * diesel - descuentoTotal\n",
        "\n",
        "print(\"El descuento total es:\", descuentoTotal)\n",
        "print(\"El valor a pagar es:\", valorApagar)\n",
        "\n",
        "\n"
      ],
      "metadata": {
        "id": "nxCrrpT0fpOj"
      },
      "execution_count": null,
      "outputs": []
    },
    {
      "cell_type": "markdown",
      "source": [
        "13 - En una empresa de venta de bienes raíces, debes crear un código que analice los datos de ventas anuales para ayudar a la dirección en la toma de decisiones. El código debe recopilar los datos de cantidad de ventas durante los años 2022 y 2023 y calcular la variación porcentual. A partir del valor de la variación, se deben proporcionar las siguientes sugerencias:\n",
        "\n",
        "* Para una variación superior al 20%: bonificación para el equipo de ventas.\n",
        "* Para una variación entre el 2% y el 20%: pequeña bonificación para el equipo de ventas.\n",
        "* Para una variación entre el 2% y el -10%: planificación de políticas de incentivo a las ventas.\n",
        "* Para bonificaciones inferiores al -10%: recorte de gastos."
      ],
      "metadata": {
        "id": "K6p3Zb_Nc5iU"
      }
    },
    {
      "cell_type": "code",
      "source": [
        "cantidadVentas2022 = float(input(\"Ingrese la cantidad de ventas del año 2022: \"))\n",
        "cantidadVentas2023 = float(input(\"Ingrese la cantidad de ventas del año 2023: \"))\n",
        "\n",
        "variacionPorcentual = ((cantidadVentas2023 - cantidadVentas2022) / cantidadVentas2022) * 100\n",
        "\n",
        "print(\"La variación porcentual es:\", variacionPorcentual)\n",
        "\n",
        "if variacionPorcentual > 20:\n",
        "  print(\"Bonificación para el equipo de ventas.\")\n",
        "elif variacionPorcentual >= 2 and variacionPorcentual <= 20:\n",
        "  print(\"Bonificación pequeña para el equipo de ventas.\")\n",
        "elif variacionPorcentual >= -10 and variacionPorcentual < 2:\n",
        "  print(\"Planificación de políticas de incentivo a las ventas.\")\n",
        "elif variacionPorcentual <-10:\n",
        "  print(\"Recorte de gastos.\")"
      ],
      "metadata": {
        "colab": {
          "base_uri": "https://localhost:8080/"
        },
        "id": "bfIC-SCPfpqa",
        "outputId": "b6781d6c-a470-4b13-aaaa-b38386219dbd"
      },
      "execution_count": 5,
      "outputs": [
        {
          "output_type": "stream",
          "name": "stdout",
          "text": [
            "Ingrese la cantidad de ventas del año 2022: 100\n",
            "Ingrese la cantidad de ventas del año 2023: 89\n",
            "La variación porcentual es: -11.0\n",
            "Recorte de gastos.\n"
          ]
        }
      ]
    }
  ]
}