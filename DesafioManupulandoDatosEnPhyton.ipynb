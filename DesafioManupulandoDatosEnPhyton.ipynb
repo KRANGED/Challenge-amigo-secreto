{
  "nbformat": 4,
  "nbformat_minor": 0,
  "metadata": {
    "colab": {
      "provenance": [],
      "authorship_tag": "ABX9TyPI/qh5xYj22XhtgFH6Pdm1",
      "include_colab_link": true
    },
    "kernelspec": {
      "name": "python3",
      "display_name": "Python 3"
    },
    "language_info": {
      "name": "python"
    }
  },
  "cells": [
    {
      "cell_type": "markdown",
      "metadata": {
        "id": "view-in-github",
        "colab_type": "text"
      },
      "source": [
        "<a href=\"https://colab.research.google.com/github/KRANGED/Challenge-amigo-secreto/blob/main/DesafioManupulandoDatosEnPhyton.ipynb\" target=\"_parent\"><img src=\"https://colab.research.google.com/assets/colab-badge.svg\" alt=\"Open In Colab\"/></a>"
      ]
    },
    {
      "cell_type": "code",
      "execution_count": null,
      "metadata": {
        "id": "bGuVWodNGze_"
      },
      "outputs": [],
      "source": []
    },
    {
      "cell_type": "markdown",
      "source": [
        "Recopilación y muestra de datos\n",
        "\n",
        "1 - Crea un programa que solicite al usuario que escriba su nombre y luego imprima \"Hola, [nombre].\"\n"
      ],
      "metadata": {
        "id": "v5G3ZTyUG0r4"
      }
    },
    {
      "cell_type": "code",
      "source": [
        "nombre = input(\"Ingrese su nombre: \")\n",
        "print(\"Hola,\", nombre)"
      ],
      "metadata": {
        "id": "3aZfRJNUG4ws"
      },
      "execution_count": null,
      "outputs": []
    },
    {
      "cell_type": "markdown",
      "source": [
        "2 - Crea un programa que solicite al usuario que escriba su nombre y edad, y luego imprima \"Hola, [nombre], tienes [edad] años.\""
      ],
      "metadata": {
        "id": "dv_GqyofG5Lu"
      }
    },
    {
      "cell_type": "code",
      "source": [
        "nombre = input(\"Ingrese su nombre: \")\n",
        "edad = input(\"Ingrese su edad: \")\n",
        "print(\"Hola,\", nombre, \"tienes\", edad, \"años.\")"
      ],
      "metadata": {
        "id": "XxPdKRyVHGsM"
      },
      "execution_count": null,
      "outputs": []
    },
    {
      "cell_type": "markdown",
      "source": [
        "3 - Crea un programa que solicite al usuario que escriba su nombre, edad y altura en metros, y luego imprima \"Hola, [nombre], tienes [edad] años y mides [altura] metros.\""
      ],
      "metadata": {
        "id": "o1cny78UG9uJ"
      }
    },
    {
      "cell_type": "code",
      "source": [
        "nombre = input(\"Ingrese su nombre: \")\n",
        "edad = input(\"Ingrese su edad: \")\n",
        "altura = input(\"Ingrese su altura en metros: \")\n",
        "print(\"Hola,\", nombre, \"tienes\", edad, \"años y mides\", altura, \"metros.\")"
      ],
      "metadata": {
        "id": "qaRPpdgvHFbR"
      },
      "execution_count": null,
      "outputs": []
    },
    {
      "cell_type": "code",
      "source": [],
      "metadata": {
        "id": "6M_i-HAdHUyF"
      },
      "execution_count": null,
      "outputs": []
    },
    {
      "cell_type": "markdown",
      "source": [
        "Calculadora con operadores\n",
        "\n",
        "4 - Crea un programa que solicite dos valores numéricos al usuario y luego imprima la suma de ambos valores."
      ],
      "metadata": {
        "id": "HgssO7sKHHi9"
      }
    },
    {
      "cell_type": "code",
      "source": [
        "valor1 = float(input(\"Ingrese el primer valor: \"))\n",
        "valor2 = float(input(\"Ingrese el segundo valor: \"))\n",
        "suma = valor1 + valor2\n",
        "print(\"La suma de los valores es:\", suma)"
      ],
      "metadata": {
        "id": "pWWyJsZaH8nU"
      },
      "execution_count": null,
      "outputs": []
    },
    {
      "cell_type": "markdown",
      "source": [
        "5 - Crea un programa que solicite tres valores numéricos al usuario y luego imprima la suma de los tres valores."
      ],
      "metadata": {
        "id": "FJvcwY0gH9Bk"
      }
    },
    {
      "cell_type": "code",
      "source": [
        "valor1 = float(input(\"Ingrese el primer valor: \"))\n",
        "valor2 = float(input(\"Ingrese el segundo valor: \"))\n",
        "valor3 = float(input(\"Ingrese el tercer valor: \"))\n",
        "suma = valor1 + valor2 + valor3\n",
        "print(suma)"
      ],
      "metadata": {
        "id": "4_F_AjVxIFhz"
      },
      "execution_count": null,
      "outputs": []
    },
    {
      "cell_type": "markdown",
      "source": [
        "6 - Crea un programa que solicite dos valores numéricos al usuario y luego imprima la resta del primero menos el segundo valor."
      ],
      "metadata": {
        "id": "vy6ZxaLkIFzc"
      }
    },
    {
      "cell_type": "code",
      "source": [
        "valor1 = float(input(\"Ingrese el primer valor: \"))\n",
        "valor2 = float(input(\"Ingrese el segundo valor: \"))\n",
        "resta = valor1 - valor2\n",
        "print(resta)"
      ],
      "metadata": {
        "id": "BwLgMquVIIg7"
      },
      "execution_count": null,
      "outputs": []
    },
    {
      "cell_type": "markdown",
      "source": [
        "7 - Crea un programa que solicite dos valores numéricos al usuario y luego imprima la multiplicación de los dos valores."
      ],
      "metadata": {
        "id": "wyRjcPzRIIuf"
      }
    },
    {
      "cell_type": "code",
      "source": [
        "valor1 = float(input(\"Ingrese el primer valor: \"))\n",
        "valor2 = float(input(\"Ingrese el segundo valor: \"))\n",
        "multiplicacion = valor1 * valor2\n",
        "print(multiplicacion)"
      ],
      "metadata": {
        "id": "lvSASnZWIL1h"
      },
      "execution_count": null,
      "outputs": []
    },
    {
      "cell_type": "markdown",
      "source": [
        "8 - Crea un programa que solicite dos valores numéricos, un numerador y un denominador, y realice la división entre los dos valores. Asegúrate de que el valor del denominador no sea igual a 0."
      ],
      "metadata": {
        "id": "EkxXzEoMIMH6"
      }
    },
    {
      "cell_type": "code",
      "source": [
        "numerador = float(input(\"Ingrese el numerador: \"))\n",
        "denominador = float(input(\"Ingrese el denominador: \"))\n",
        "if denominador != 0:\n",
        "    division = numerador / denominador\n",
        "    print(division)\n",
        "else:\n",
        "    print('El denominador tiene que ser diferente de 0')\n"
      ],
      "metadata": {
        "id": "HfEin_XMIPL3"
      },
      "execution_count": null,
      "outputs": []
    },
    {
      "cell_type": "markdown",
      "source": [
        "9 - Crea un programa que solicite dos valores numéricos, un operador y una potencia, y realice la exponenciación entre estos dos valores."
      ],
      "metadata": {
        "id": "f8edY4t5IPYG"
      }
    },
    {
      "cell_type": "code",
      "source": [
        "operador = float(input(\"Ingrese el operador: \"))\n",
        "potencia = float(input(\"Ingrese la potencia: \"))\n",
        "exponenciacion = operador ** potencia\n",
        "print(exponenciacion)"
      ],
      "metadata": {
        "id": "kK4TA0CBISgy"
      },
      "execution_count": null,
      "outputs": []
    },
    {
      "cell_type": "markdown",
      "source": [
        "10 - Crea un programa que solicite dos valores numéricos, un numerador y un denominador, y realice la división entera entre los dos valores. Asegúrate de que el valor del denominador no sea igual a 0."
      ],
      "metadata": {
        "id": "vWP2O7kRIStb"
      }
    },
    {
      "cell_type": "code",
      "source": [
        "numerador = float(input(\"Ingrese el valor del numerador: \"))\n",
        "denominador = float(input(\"Ingrese el valor del denominador: \"))\n",
        "if denominador != 0:\n",
        "    division_entera = numerador // denominador\n",
        "    print(division_entera)\n",
        "else:\n",
        "    print(\"El denominador no puede ser 0\")\n"
      ],
      "metadata": {
        "id": "Lc6QHHJOIU4O"
      },
      "execution_count": null,
      "outputs": []
    },
    {
      "cell_type": "markdown",
      "source": [
        "11 - Crea un programa que solicite dos valores numéricos, un numerador y un denominador, y devuelva el resto de la división entre los dos valores. Asegúrate de que el valor del denominador no sea igual a 0."
      ],
      "metadata": {
        "id": "Q9wsBoXoIVBS"
      }
    },
    {
      "cell_type": "code",
      "source": [
        "numerador = float(input(\"Ingrese el valor del numerador: \"))\n",
        "denominador = float(input(\"Ingrese el valor del denominador: \"))\n",
        "if denominador != 0:\n",
        "    resto = numerador % denominador\n",
        "    print(resto)\n",
        "else:\n",
        "    print(\"El denominador no puede ser 0\")"
      ],
      "metadata": {
        "id": "WuE3HkG3IXET"
      },
      "execution_count": null,
      "outputs": []
    },
    {
      "cell_type": "markdown",
      "source": [
        "12 - Crea un código que solicite las 3 notas de un estudiante e imprima el promedio de las notas."
      ],
      "metadata": {
        "id": "gailPO4fIXMz"
      }
    },
    {
      "cell_type": "code",
      "source": [
        "nota1 = float(input(\"Ingrese la primera nota: \"))\n",
        "nota2 = float(input(\"Ingrese la segunda nota: \"))\n",
        "nota3 = float(input(\"Ingrese la tercera nota: \"))\n",
        "promedio = (nota1 + nota2 + nota3) / 3\n",
        "print(promedio)"
      ],
      "metadata": {
        "id": "IycGi7x6IZTz"
      },
      "execution_count": null,
      "outputs": []
    },
    {
      "cell_type": "markdown",
      "source": [
        "13 - Crea un código que calcule e imprima el promedio ponderado de los números 5, 12, 20 y 15 con pesos respectivamente iguales a 1, 2, 3 y 4."
      ],
      "metadata": {
        "id": "YbOTDmB1IZiv"
      }
    },
    {
      "cell_type": "code",
      "source": [
        "numero1 = 5\n",
        "numero2 = 12\n",
        "numero3 = 20\n",
        "numero4 = 15\n",
        "peso1 = 1\n",
        "peso2 = 2\n",
        "peso3 = 3\n",
        "peso4 = 4\n",
        "promedioponderado = ((numero1 * peso1) + (numero2 * peso2) + (numero3 * peso3) + (numero4 * peso4)) / (peso1 + peso2 + peso3 + peso4)\n",
        "print(promedioponderado)"
      ],
      "metadata": {
        "id": "WC2gYY44IcO-"
      },
      "execution_count": null,
      "outputs": []
    },
    {
      "cell_type": "markdown",
      "source": [
        "##Editando textos\n",
        "\n",
        "---\n",
        "14 - Crea una variable llamada \"frase\" y asígnale una cadena de texto de tu elección. Luego, imprime la frase en pantalla."
      ],
      "metadata": {
        "id": "MAAz97zbIcvH"
      }
    },
    {
      "cell_type": "code",
      "source": [
        "frase = \"vix\"\n",
        "print(frase)"
      ],
      "metadata": {
        "id": "MXqCHxkUIrvH"
      },
      "execution_count": null,
      "outputs": []
    },
    {
      "cell_type": "markdown",
      "source": [
        "15 - Crea un código que solicite una frase y luego imprima la frase en pantalla."
      ],
      "metadata": {
        "id": "aUQ3hHGDI6RN"
      }
    },
    {
      "cell_type": "code",
      "source": [
        "frase = input(\"Ingrese una frase: \")\n",
        "print(frase)"
      ],
      "metadata": {
        "id": "qC9NU3V6I9cT"
      },
      "execution_count": null,
      "outputs": []
    },
    {
      "cell_type": "markdown",
      "source": [
        "16 - Crea un código que solicite una frase al usuario y luego imprima la misma frase ingresada pero en mayúsculas."
      ],
      "metadata": {
        "id": "KEFTyljII97S"
      }
    },
    {
      "cell_type": "code",
      "source": [
        "frase( = input(\"Ingrese una frase: \")\n",
        "print(frase.upper())"
      ],
      "metadata": {
        "id": "YO5YrubeJAU9"
      },
      "execution_count": null,
      "outputs": []
    },
    {
      "cell_type": "markdown",
      "source": [
        "17 - Crea un código que solicite una frase al usuario y luego imprima la misma frase ingresada pero en minúsculas."
      ],
      "metadata": {
        "id": "IkRWjmtJJArB"
      }
    },
    {
      "cell_type": "code",
      "source": [
        "frase = input(\"Ingrese una frase: \")\n",
        "print(frase.lower())"
      ],
      "metadata": {
        "id": "RUHIPm8TJDDQ"
      },
      "execution_count": null,
      "outputs": []
    },
    {
      "cell_type": "markdown",
      "source": [
        "18 - Crea una variable llamada \"frase\" y asígnale una cadena de texto de tu elección. Luego, imprime la frase sin espacios en blanco al principio y al final."
      ],
      "metadata": {
        "id": "GHj0BlndJDL-"
      }
    },
    {
      "cell_type": "code",
      "source": [
        "frase = \"calzado yek\"\n",
        "print(frase.strip()\n"
      ],
      "metadata": {
        "id": "9Vcv6ka4JGyT"
      },
      "execution_count": null,
      "outputs": []
    },
    {
      "cell_type": "markdown",
      "source": [
        "19 - Crea un código que solicite una frase al usuario y luego imprima la misma frase sin espacios en blanco al principio y al final."
      ],
      "metadata": {
        "id": "AT9NSxfgJFw8"
      }
    },
    {
      "cell_type": "code",
      "source": [
        "frase = input(\"Ingrese una frase: \")\n",
        "print(frase.strip())"
      ],
      "metadata": {
        "id": "hCk2eIq_JLi_"
      },
      "execution_count": null,
      "outputs": []
    },
    {
      "cell_type": "markdown",
      "source": [
        "20 - Crea un código que solicite una frase al usuario y luego imprima la misma frase sin espacios en blanco al principio y al final, además de convertirla a minúsculas."
      ],
      "metadata": {
        "id": "7AmQot_RJLzA"
      }
    },
    {
      "cell_type": "code",
      "source": [
        "frase = input(\"Ingrese una frase: \")\n",
        "print(frase.strip().lower())"
      ],
      "metadata": {
        "id": "Qag46inkJOHy"
      },
      "execution_count": null,
      "outputs": []
    },
    {
      "cell_type": "markdown",
      "source": [
        "21 - Crea un código que solicite una frase al usuario y luego imprima la misma frase con todas las vocales \"e\" reemplazadas por la letra \"f\"."
      ],
      "metadata": {
        "id": "Xf3ViuGdJOam"
      }
    },
    {
      "cell_type": "code",
      "source": [
        "frase = input(\"Ingrese una frase: \")\n",
        "frase_sin_la_letra_e = frase.replace(\"e\", \"f\")\n",
        "print(frase_modificada)"
      ],
      "metadata": {
        "id": "KeGQuSdqJRnH"
      },
      "execution_count": null,
      "outputs": []
    },
    {
      "cell_type": "markdown",
      "source": [
        "22 - Crea un código que solicite una frase al usuario y luego imprima la misma frase con todas las vocales \"a\" reemplazadas por el carácter \"@\"."
      ],
      "metadata": {
        "id": "7n4od0EFJQr_"
      }
    },
    {
      "cell_type": "code",
      "source": [
        "frase = input(\"Ingrese una frase: \")\n",
        "frase_modificada = frase.replace(\"a\", \"@\")\n",
        "print(frase_modificada)"
      ],
      "metadata": {
        "id": "NaUyQAoEJVJy"
      },
      "execution_count": null,
      "outputs": []
    },
    {
      "cell_type": "markdown",
      "source": [
        "23 - Crea un código que solicite una frase al usuario y luego imprima la misma frase con todas las consonantes \"s\" reemplazadas por el carácter \"$\"."
      ],
      "metadata": {
        "id": "lUmXlML7JVdq"
      }
    },
    {
      "cell_type": "code",
      "source": [
        "frase = input(\"Ingrese una frase: \")\n",
        "frase_modificada = frase.replace(\"s\", \"$\")\n",
        "print(frase_modificada)"
      ],
      "metadata": {
        "id": "Uvl6dtCNJXwW"
      },
      "execution_count": null,
      "outputs": []
    }
  ]
}