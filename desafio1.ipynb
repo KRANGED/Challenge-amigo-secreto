{
  "nbformat": 4,
  "nbformat_minor": 0,
  "metadata": {
    "colab": {
      "provenance": [],
      "authorship_tag": "ABX9TyP6GnU/zLp56fwFtVSpYBnX",
      "include_colab_link": true
    },
    "kernelspec": {
      "name": "python3",
      "display_name": "Python 3"
    },
    "language_info": {
      "name": "python"
    }
  },
  "cells": [
    {
      "cell_type": "markdown",
      "metadata": {
        "id": "view-in-github",
        "colab_type": "text"
      },
      "source": [
        "<a href=\"https://colab.research.google.com/github/KRANGED/Challenge-amigo-secreto/blob/main/desafio1.ipynb\" target=\"_parent\"><img src=\"https://colab.research.google.com/assets/colab-badge.svg\" alt=\"Open In Colab\"/></a>"
      ]
    },
    {
      "cell_type": "code",
      "execution_count": 7,
      "metadata": {
        "id": "Bl7sTFYBckhN",
        "colab": {
          "base_uri": "https://localhost:8080/"
        },
        "outputId": "b0814997-f61e-4ada-f277-695745a0a183"
      },
      "outputs": [
        {
          "output_type": "stream",
          "name": "stdout",
          "text": [
            "Escuela de datos ALura LATAM\n",
            "Nombre: Keivent\n",
            "Apellido: Ramirez\n"
          ]
        }
      ],
      "source": [
        "print(\"Escuela de datos ALura LATAM\")\n",
        "print('Nombre: Keivent')\n",
        "print('Apellido: Ramirez')\n"
      ]
    },
    {
      "cell_type": "code",
      "source": [
        "print('K')\n",
        "print('E')\n",
        "print('I')\n",
        "print('V')\n",
        "print('E')\n",
        "print('N')\n",
        "print('T')"
      ],
      "metadata": {
        "colab": {
          "base_uri": "https://localhost:8080/"
        },
        "id": "huWwi3GJdvWw",
        "outputId": "3da845df-9de4-4b37-db44-d314ab064be0"
      },
      "execution_count": 6,
      "outputs": [
        {
          "output_type": "stream",
          "name": "stdout",
          "text": [
            "K\n",
            "E\n",
            "I\n",
            "V\n",
            "E\n",
            "N\n",
            "T\n"
          ]
        }
      ]
    },
    {
      "cell_type": "code",
      "source": [
        "print(6,'febrero',1998)"
      ],
      "metadata": {
        "colab": {
          "base_uri": "https://localhost:8080/"
        },
        "id": "5GLiY3OBegDS",
        "outputId": "adac54d7-1011-4c59-be33-ff6c00cdd9b4"
      },
      "execution_count": 10,
      "outputs": [
        {
          "output_type": "stream",
          "name": "stdout",
          "text": [
            "6 febrero 1998\n"
          ]
        }
      ]
    },
    {
      "cell_type": "code",
      "source": [
        "print('Año actual en el que se realiza el curso [',2025,']')"
      ],
      "metadata": {
        "colab": {
          "base_uri": "https://localhost:8080/"
        },
        "id": "KjUGCipCetvH",
        "outputId": "07be80af-a255-4b54-ea5a-944a74486fc4"
      },
      "execution_count": 12,
      "outputs": [
        {
          "output_type": "stream",
          "name": "stdout",
          "text": [
            "Año actual en el que se realiza el curso [ 2025 ]\n"
          ]
        }
      ]
    },
    {
      "cell_type": "code",
      "source": [],
      "metadata": {
        "id": "JYRBxXiWfBrk"
      },
      "execution_count": null,
      "outputs": []
    }
  ]
}